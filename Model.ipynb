{
 "cells": [
  {
   "cell_type": "code",
   "execution_count": 1,
   "metadata": {},
   "outputs": [
    {
     "name": "stdout",
     "output_type": "stream",
     "text": [
      "Descriptive Statistics:\n",
      "       move_number  first_move_loc\n",
      "count    30.000000       30.000000\n",
      "mean      8.166667        3.700000\n",
      "std       1.234094        2.321563\n",
      "min       5.000000        0.000000\n",
      "25%       8.000000        2.000000\n",
      "50%       9.000000        3.000000\n",
      "75%       9.000000        6.000000\n",
      "max       9.000000        8.000000\n"
     ]
    }
   ],
   "source": [
    "import pandas as pd\n",
    "from sklearn.model_selection import train_test_split\n",
    "from sklearn.linear_model import LinearRegression\n",
    "from sklearn.metrics import mean_squared_error, r2_score\n",
    "\n",
    "import numpy as np\n",
    "\n",
    "\n",
    "# Read the file\n",
    "file_path = 'database.csv'  # Replace with your file path\n",
    "df = pd.read_csv(file_path)\n",
    "\n",
    "# Descriptive statistics\n",
    "descriptive_stats = df.describe()\n",
    "\n",
    "# Print descriptive statistics\n",
    "print(\"Descriptive Statistics:\")\n",
    "print(descriptive_stats)\n"
   ]
  },
  {
   "cell_type": "markdown",
   "metadata": {},
   "source": []
  },
  {
   "cell_type": "code",
   "execution_count": 2,
   "metadata": {},
   "outputs": [
    {
     "name": "stdout",
     "output_type": "stream",
     "text": [
      "Model Coefficient: [-0.0610687]\n",
      "Model Intercept: 0.232824427480916\n",
      "Mean Squared Error (MSE): 0.8789843249227899\n",
      "R-squared (R2 ): -0.09115295507656662\n",
      "Likelihood of Winning for Each Position Type:\n",
      "Position Type 0: 0.232824427480916\n",
      "Position Type 1: 0.17175572519083968\n",
      "Position Type 2: 0.11068702290076336\n"
     ]
    }
   ],
   "source": [
    "# Encode positions\n",
    "import warnings\n",
    "warnings.filterwarnings('ignore')\n",
    "position_mapping = {0: 0, 2: 0, 6: 0, 8: 0,  # Corners\n",
    "                    4: 1,                     # Center\n",
    "                    1: 2, 3: 2, 5: 2, 7: 2}   # Edges\n",
    "\n",
    "df['position_type'] = df['first_move_loc'].map(position_mapping)\n",
    "\n",
    "# Convert the winner to numerical values\n",
    "df['winner'] = df['winner'].map({'X': 1, 'O': -1, 'draw': 0})\n",
    "\n",
    "# Split the dataset\n",
    "X = df[['position_type']]\n",
    "y = df['winner']\n",
    "\n",
    "X_train, X_test, y_train, y_test = train_test_split(X, y, test_size=0.2, random_state=42)\n",
    "\n",
    "\n",
    "# Build the model\n",
    "model = LinearRegression()\n",
    "model.fit(X_train, y_train)\n",
    "y_pred = model.predict(X_test)\n",
    "\n",
    "# Output model parameters\n",
    "print(f\"Model Coefficient: {model.coef_}\")\n",
    "print(f\"Model Intercept: {model.intercept_}\")\n",
    "\n",
    "# Output model performance\n",
    "print(f\"Mean Squared Error (MSE): {mean_squared_error(y_test, y_pred)}\")\n",
    "print(f\"R-squared (R2 ): {r2_score(y_test, y_pred)}\")\n",
    "\n",
    "# Predict the likelihood of winning for each position type\n",
    "position_types = np.array([0, 1, 2]).reshape(-1, 1)\n",
    "predictions = model.predict(position_types)\n",
    "\n",
    "print(\"Likelihood of Winning for Each Position Type:\")\n",
    "for pt, prediction in zip(position_types, predictions):\n",
    "    print(f\"Position Type {pt[0]}: {prediction}\")\n"
   ]
  }
 ],
 "metadata": {
  "kernelspec": {
   "display_name": "base",
   "language": "python",
   "name": "python3"
  },
  "language_info": {
   "codemirror_mode": {
    "name": "ipython",
    "version": 3
   },
   "file_extension": ".py",
   "mimetype": "text/x-python",
   "name": "python",
   "nbconvert_exporter": "python",
   "pygments_lexer": "ipython3",
   "version": "3.8.5"
  }
 },
 "nbformat": 4,
 "nbformat_minor": 2
}
